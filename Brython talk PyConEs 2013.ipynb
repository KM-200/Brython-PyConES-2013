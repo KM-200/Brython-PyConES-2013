{
 "metadata": {
  "name": ""
 },
 "nbformat": 3,
 "nbformat_minor": 0,
 "worksheets": [
  {
   "cells": [
    {
     "cell_type": "code",
     "collapsed": false,
     "input": [
      "from IPython.display import HTML"
     ],
     "language": "python",
     "metadata": {
      "slideshow": {
       "slide_type": "skip"
      }
     },
     "outputs": [],
     "prompt_number": 3
    },
    {
     "cell_type": "markdown",
     "metadata": {
      "slideshow": {
       "slide_type": "slide"
      }
     },
     "source": [
      "# Learning Javascript while working with Brython"
     ]
    },
    {
     "cell_type": "markdown",
     "metadata": {
      "slideshow": {
       "slide_type": "slide"
      }
     },
     "source": [
      "# What it is Brython?"
     ]
    },
    {
     "cell_type": "markdown",
     "metadata": {
      "slideshow": {
       "slide_type": "fragment"
      }
     },
     "source": [
      "### Brython derives from Browser Python"
     ]
    },
    {
     "cell_type": "markdown",
     "metadata": {
      "slideshow": {
       "slide_type": "fragment"
      }
     },
     "source": [
      "### Brython wants to be a 100% compliant Python3 implementation made with Python and Javascript that runs in the browser"
     ]
    },
    {
     "cell_type": "markdown",
     "metadata": {
      "slideshow": {
       "slide_type": "slide"
      }
     },
     "source": [
      "# Some time ago the question was: Why should I use javascript?"
     ]
    },
    {
     "cell_type": "markdown",
     "metadata": {
      "slideshow": {
       "slide_type": "fragment"
      }
     },
     "source": [
      "### Two answers:"
     ]
    },
    {
     "cell_type": "markdown",
     "metadata": {
      "slideshow": {
       "slide_type": "fragment"
      }
     },
     "source": [
      "* ### The first is that you have no choice"
     ]
    },
    {
     "cell_type": "markdown",
     "metadata": {
      "slideshow": {
       "slide_type": "fragment"
      }
     },
     "source": [
      "* ### The second is that javascript could be really good (*)"
     ]
    },
    {
     "cell_type": "markdown",
     "metadata": {
      "slideshow": {
       "slide_type": "fragment"
      }
     },
     "source": [
      "#### [Douglas Crockford](http://www.crockford.com/index.html), 'Javascript, the good parts'\n",
      "\n",
      "![](http://www.crockford.com/goodparts.gif)"
     ]
    },
    {
     "cell_type": "markdown",
     "metadata": {
      "slideshow": {
       "slide_type": "subslide"
      }
     },
     "source": [
      "### (*) or at least it wouldn't be so bad as many people believe_"
     ]
    },
    {
     "cell_type": "markdown",
     "metadata": {
      "slideshow": {
       "slide_type": "subslide"
      }
     },
     "source": [
      "### Really? ;-)"
     ]
    },
    {
     "cell_type": "code",
     "collapsed": false,
     "input": [
      "HTML('<iframe src=https://www.destroyallsoftware.com/talks/wat width=900 height=500></iframe>')"
     ],
     "language": "python",
     "metadata": {
      "slideshow": {
       "slide_type": "fragment"
      }
     },
     "outputs": [
      {
       "html": [
        "<iframe src=https://www.destroyallsoftware.com/talks/wat width=900 height=500></iframe>"
       ],
       "metadata": {},
       "output_type": "pyout",
       "prompt_number": 2,
       "text": [
        "<IPython.core.display.HTML at 0x7fbd2f6e0b10>"
       ]
      }
     ],
     "prompt_number": 2
    },
    {
     "cell_type": "markdown",
     "metadata": {
      "slideshow": {
       "slide_type": "slide"
      }
     },
     "source": [
      "# But it was some time ago. Nowadays people could choose other options..."
     ]
    },
    {
     "cell_type": "code",
     "collapsed": false,
     "input": [
      "HTML('<iframe src=http://altjs.org/ width=900 height=350></iframe>')"
     ],
     "language": "python",
     "metadata": {
      "slideshow": {
       "slide_type": "subslide"
      }
     },
     "outputs": [
      {
       "html": [
        "<iframe src=http://altjs.org/ width=900 height=350></iframe>"
       ],
       "metadata": {},
       "output_type": "pyout",
       "prompt_number": 3,
       "text": [
        "<IPython.core.display.HTML at 0x7fbd2f5404d0>"
       ]
      }
     ],
     "prompt_number": 3
    },
    {
     "cell_type": "code",
     "collapsed": false,
     "input": [
      "from IPython.display import HTML\n",
      "HTML('<iframe src=http://stromberg.dnsalias.org/~strombrg/pybrowser/python-browser.html width=900 height=350></iframe>')"
     ],
     "language": "python",
     "metadata": {
      "slideshow": {
       "slide_type": "subslide"
      }
     },
     "outputs": [
      {
       "html": [
        "<iframe src=http://stromberg.dnsalias.org/~strombrg/pybrowser/python-browser.html width=900 height=350></iframe>"
       ],
       "metadata": {},
       "output_type": "pyout",
       "prompt_number": 4,
       "text": [
        "<IPython.core.display.HTML at 0x7fbd2f5d65d0>"
       ]
      }
     ],
     "prompt_number": 4
    },
    {
     "cell_type": "markdown",
     "metadata": {
      "slideshow": {
       "slide_type": "fragment"
      }
     },
     "source": [
      "#### Credits: [Stromberg](http://stromberg.dnsalias.org/~strombrg/pybrowser/python-browser.html)"
     ]
    },
    {
     "cell_type": "markdown",
     "metadata": {
      "slideshow": {
       "slide_type": "subslide"
      }
     },
     "source": [
      "#### Other [similar lists](https://github.com/jashkenas/coffee-script/wiki/List-of-languages-that-compile-to-JS)."
     ]
    },
    {
     "cell_type": "markdown",
     "metadata": {
      "slideshow": {
       "slide_type": "slide"
      }
     },
     "source": [
      "# WTF?? Why are you trying to do that?"
     ]
    },
    {
     "cell_type": "markdown",
     "metadata": {
      "slideshow": {
       "slide_type": "fragment"
      }
     },
     "source": [
      "### Even GvR doesn't recommend to do that!!"
     ]
    },
    {
     "cell_type": "markdown",
     "metadata": {
      "slideshow": {
       "slide_type": "fragment"
      }
     },
     "source": [
      "### _Python in the browser ?_\n",
      "\n",
      "_by Btrot69_\n",
      "\n",
      "#### _Over the years, there have been several attempts to create a sandboxed version of python that will safely run in a web browser.Mostly this was because of problems with Javascript. Now that Javascript works -- and we have nice things like CoffeeScript -- is it time to give up on python in the browser ?_\n",
      "\n",
      "#### _Guido: I gave up on it in 1995, so yes. And please don't try to compile Python to JavaScript. The semantics are so different that you end up writing most of a Python runtime in JavaScript, which slows things down too much. (CoffeScript's strength is that it is designed to map cleanly to JavaScript, and the two are now co-evolving to make the mapping even cleaner.)_"
     ]
    },
    {
     "cell_type": "markdown",
     "metadata": {
      "slideshow": {
       "slide_type": "fragment"
      }
     },
     "source": [
      "#### See complete interview [here](http://developers.slashdot.org/story/13/08/25/2115204/interviews-guido-van-rossum-answers-your-questions)."
     ]
    },
    {
     "cell_type": "markdown",
     "metadata": {
      "slideshow": {
       "slide_type": "slide"
      }
     },
     "source": [
      "# Brython, the good parts"
     ]
    },
    {
     "cell_type": "markdown",
     "metadata": {
      "slideshow": {
       "slide_type": "subslide"
      }
     },
     "source": [
      "### Brython is a (subset of) CPython3 that runs in the browser"
     ]
    },
    {
     "cell_type": "markdown",
     "metadata": {
      "slideshow": {
       "slide_type": "subslide"
      }
     },
     "source": [
      "**Python syntax**\n",
      "-----------------\n",
      "\n",
      "    a = 1\n",
      "    b = 2\n",
      "    print(a + b)\n",
      "    \n",
      "    a, b = 1, 2\n",
      "    print(a + b)\n",
      "    \n",
      "    print(type(a))\n",
      "    print(type(a * 1.0))\n",
      "    \n",
      "    print(1 + 'a')"
     ]
    },
    {
     "cell_type": "code",
     "collapsed": false,
     "input": [
      "HTML('<iframe src=http://brython.info/tests/console.html width=900 height=350></iframe>')"
     ],
     "language": "python",
     "metadata": {
      "slideshow": {
       "slide_type": "fragment"
      }
     },
     "outputs": [
      {
       "html": [
        "<iframe src=http://brython.info/tests/console.html width=900 height=350></iframe>"
       ],
       "metadata": {},
       "output_type": "pyout",
       "prompt_number": 5,
       "text": [
        "<IPython.core.display.HTML at 0x7fbd2f5d41d0>"
       ]
      }
     ],
     "prompt_number": 5
    },
    {
     "cell_type": "markdown",
     "metadata": {
      "slideshow": {
       "slide_type": "subslide"
      }
     },
     "source": [
      "**Functions**\n",
      "-------------\n",
      "\n",
      "    def sum(a, b):\n",
      "        return a + b\n",
      "    print(sum(2,2))"
     ]
    },
    {
     "cell_type": "code",
     "collapsed": false,
     "input": [
      "HTML('<iframe src=http://brython.info/tests/console.html width=900 height=350></iframe>')"
     ],
     "language": "python",
     "metadata": {
      "slideshow": {
       "slide_type": "fragment"
      }
     },
     "outputs": [
      {
       "html": [
        "<iframe src=http://brython.info/tests/console.html width=900 height=350></iframe>"
       ],
       "metadata": {},
       "output_type": "pyout",
       "prompt_number": 6,
       "text": [
        "<IPython.core.display.HTML at 0x7fbd2f5d4890>"
       ]
      }
     ],
     "prompt_number": 6
    },
    {
     "cell_type": "markdown",
     "metadata": {
      "slideshow": {
       "slide_type": "subslide"
      }
     },
     "source": [
      "**Classes**\n",
      "-----------\n",
      "\n",
      "    class Square:\n",
      "        def __init__(self, length):\n",
      "            self.len = length\n",
      "        \n",
      "        def area(self):\n",
      "            return self.len ** 2\n",
      "    \n",
      "    sq = Square(2)\n",
      "    print(sq.area())\n",
      "            "
     ]
    },
    {
     "cell_type": "code",
     "collapsed": false,
     "input": [
      "HTML('<iframe src=http://brython.info/tests/console.html width=900 height=350></iframe>')"
     ],
     "language": "python",
     "metadata": {
      "slideshow": {
       "slide_type": "fragment"
      }
     },
     "outputs": [
      {
       "html": [
        "<iframe src=http://brython.info/tests/console.html width=900 height=350></iframe>"
       ],
       "metadata": {},
       "output_type": "pyout",
       "prompt_number": 7,
       "text": [
        "<IPython.core.display.HTML at 0x7fbd2f5d6850>"
       ]
      }
     ],
     "prompt_number": 7
    },
    {
     "cell_type": "markdown",
     "metadata": {
      "slideshow": {
       "slide_type": "subslide"
      }
     },
     "source": [
      "**Inheritance**\n",
      "---------------\n",
      "\n",
      "    class Square:\n",
      "        def __init__(self, length):\n",
      "            self.len = length\n",
      "        \n",
      "        def area(self):\n",
      "            return self.len ** 2\n",
      "    \n",
      "    sq = Square(2)\n",
      "    print(sq.area())\n",
      "\n",
      "    class Square2(Square):\n",
      "        def perimeter(self):\n",
      "            return self.len * 4\n",
      "    \n",
      "    sq = Square2(10)\n",
      "    print(sq.area())\n",
      "    print(sq.perimeter())"
     ]
    },
    {
     "cell_type": "code",
     "collapsed": false,
     "input": [
      "HTML('<iframe src=http://brython.info/tests/console.html width=900 height=350></iframe>')"
     ],
     "language": "python",
     "metadata": {
      "slideshow": {
       "slide_type": "fragment"
      }
     },
     "outputs": [
      {
       "html": [
        "<iframe src=http://brython.info/tests/console.html width=900 height=350></iframe>"
       ],
       "metadata": {},
       "output_type": "pyout",
       "prompt_number": 8,
       "text": [
        "<IPython.core.display.HTML at 0x7fbd2f5d46d0>"
       ]
      }
     ],
     "prompt_number": 8
    },
    {
     "cell_type": "markdown",
     "metadata": {
      "slideshow": {
       "slide_type": "subslide"
      }
     },
     "source": [
      "**How classes are implemented in Brython**\n",
      "------------------------------------------"
     ]
    },
    {
     "cell_type": "markdown",
     "metadata": {
      "slideshow": {
       "slide_type": "fragment"
      }
     },
     "source": [
      "Python classes (including built-in classes) are implemented with 2 different Javascript objects : a factory function that creates instances (it uses `__new__` and `__init__` when available) and a dictionary that holds the class attributes and methods.\n",
      "\n",
      "(\\*) `super` is not implemented in Brython 1.2 (well, it is since [some days ago](https://bitbucket.org/olemis/brython/src/a062b0a69cd064bfd4131fc9323ee47416e5545c/src/py_builtin_functions.js?at=default#cl-1147))."
     ]
    },
    {
     "cell_type": "markdown",
     "metadata": {
      "slideshow": {
       "slide_type": "subslide"
      }
     },
     "source": [
      "**Decorators**\n",
      "--------------\n",
      "\n",
      "    def world(some_func):\n",
      "        def pre(arg):\n",
      "            greet = some_func(arg)\n",
      "            return greet + ' world!'\n",
      "        return pre\n",
      "    \n",
      "    @world\n",
      "    def whatever(word):\n",
      "        return word\n",
      "    \n",
      "    print(whatever('hello'))"
     ]
    },
    {
     "cell_type": "code",
     "collapsed": false,
     "input": [
      "HTML('<iframe src=http://brython.info/tests/console.html width=900 height=350></iframe>')"
     ],
     "language": "python",
     "metadata": {
      "slideshow": {
       "slide_type": "fragment"
      }
     },
     "outputs": [
      {
       "html": [
        "<iframe src=http://brython.info/tests/console.html width=900 height=350></iframe>"
       ],
       "metadata": {},
       "output_type": "pyout",
       "prompt_number": 9,
       "text": [
        "<IPython.core.display.HTML at 0x7fbd2f5b5f50>"
       ]
      }
     ],
     "prompt_number": 9
    },
    {
     "cell_type": "markdown",
     "metadata": {
      "slideshow": {
       "slide_type": "subslide"
      }
     },
     "source": [
      "### Brython supports most keywords and functions of Python 3 :\n",
      "\n",
      "**Keywords**\n",
      "------------\n",
      "\n",
      "    as, assert, break, class, continue, def, del, elif, else, except, False, finally, for, from, global, if, import, is, lambda, None, pass, return, True, try, while, with, yield\n",
      "    \n",
      "**Built-in functions**\n",
      "----------------------\n",
      "\n",
      "    abs(), all(), any(), ascii(), bin(), bool(), bytes(), callable(), chr(), classmethod(), delattr(), dict(), dir(), divmod(), enumerate(), eval(), exec(), filter(), float(), frozenset(), getattr(), globals(), hasattr(), hash(), hex(), id(), input(), int(), isinstance(), iter(), len(), list(), locals(), map(), max(), min(), next(), object(), open(), ord(), pow(), print(), property(), range(), repr(), reversed(), round(), set(), setattr(), slice(), sorted(), str(), sum(), tuple(), type(), zip()"
     ]
    },
    {
     "cell_type": "markdown",
     "metadata": {
      "slideshow": {
       "slide_type": "fragment"
      }
     },
     "source": [
      "### The following are not implemented in the current version :\n",
      "\n",
      "**keywords**\n",
      "------------\n",
      "    \n",
      "    nonlocal\n",
      "    \n",
      "**built-in functions** \n",
      "----------------------\n",
      "\n",
      "    bytearray(), compile(), complex(), format(), help(), memoryview(), super(), vars(), __import__\n",
      "\n",
      "The **complex number type** (j) is not supported "
     ]
    },
    {
     "cell_type": "markdown",
     "metadata": {
      "slideshow": {
       "slide_type": "slide"
      }
     },
     "source": [
      "# Ok, I have Python to simulate Python :-)"
     ]
    },
    {
     "cell_type": "markdown",
     "metadata": {
      "slideshow": {
       "slide_type": "fragment"
      }
     },
     "source": [
      "### Show me the money!!!"
     ]
    },
    {
     "cell_type": "markdown",
     "metadata": {
      "slideshow": {
       "slide_type": "fragment"
      }
     },
     "source": [
      "![](http://img01.lavanguardia.com/2013/02/18/Luis-Barcenas-a-su-llegada-a-B_54366849986_51347059679_342_226.jpg)"
     ]
    },
    {
     "cell_type": "markdown",
     "metadata": {
      "slideshow": {
       "slide_type": "slide"
      }
     },
     "source": [
      "# Ok, let's see what Brython can do in the browser"
     ]
    },
    {
     "cell_type": "markdown",
     "metadata": {
      "slideshow": {
       "slide_type": "subslide"
      }
     },
     "source": [
      "### First of all, to use Brython you need to:"
     ]
    },
    {
     "cell_type": "markdown",
     "metadata": {
      "slideshow": {
       "slide_type": "fragment"
      }
     },
     "source": [
      "* #### include the following in your html file \n",
      "\n",
      "`<script type=\"text/javascript\" src=\"path/to/the/library/brython.js\">`"
     ]
    },
    {
     "cell_type": "markdown",
     "metadata": {
      "slideshow": {
       "slide_type": "fragment"
      }
     },
     "source": [
      "* #### Include the following in the `body` tag \n",
      "\n",
      "`<body onload=\"brython()\">`"
     ]
    },
    {
     "cell_type": "markdown",
     "metadata": {
      "slideshow": {
       "slide_type": "fragment"
      }
     },
     "source": [
      "* #### Include your python code in a `script` tag using `text/python` or `text/python3`\n",
      "\n",
      "`<script type=\"text/python\">`\n",
      "\n",
      "`...Your Python code...`\n",
      "\n",
      "`</script>`"
     ]
    },
    {
     "cell_type": "markdown",
     "metadata": {
      "slideshow": {
       "slide_type": "subslide"
      }
     },
     "source": [
      "**There are some things that are different to Python**\n",
      "---------------------------------------------------------------------\n",
      "\n",
      "#### By default, `print()` will output to the web browser console and so are the error messages. `sys.stderr` and `sys.stdout` can be assigned to an object with a `write()` method, and this allows for the redirection of output to go to a window or text area, for example.\n",
      "\n",
      "#### `sys.stdin` is not implemented at this time, however there is an `input()` built-in function that will open a blocking input dialog (a prompt).\n",
      "\n",
      "#### To open a print dialog (to a printer), call `win.print()`.\n",
      "\n",
      "#### Some keywords and built-in functions designed for operation in a browser have been added:\n",
      "\n",
      "**built-ins**\n",
      "    \n",
      "    alert(), confirm(), prompt() \n",
      "\n",
      "#### correspond to their Javascript equivalents\n",
      "\n",
      "#### the `win` keyword is the __window__ (__window__ object in JS) and `doc` represents the HTML __document__ (__document__ in JS)."
     ]
    },
    {
     "cell_type": "code",
     "collapsed": false,
     "input": [
      "HTML('<iframe src=http://curious-electric.com/brython-playground/ width=900 height=400></iframe>')"
     ],
     "language": "python",
     "metadata": {
      "slideshow": {
       "slide_type": "subslide"
      }
     },
     "outputs": [
      {
       "html": [
        "<iframe src=http://curious-electric.com/brython-playground/ width=900 height=400></iframe>"
       ],
       "metadata": {},
       "output_type": "pyout",
       "prompt_number": 10,
       "text": [
        "<IPython.core.display.HTML at 0x7fbd2f549310>"
       ]
      }
     ],
     "prompt_number": 10
    },
    {
     "cell_type": "markdown",
     "metadata": {
      "slideshow": {
       "slide_type": "fragment"
      }
     },
     "source": [
      "#### Credits of the [Brython jsFiddle clone](https://github.com/dirkk0/brython-playground): Dirk Krause."
     ]
    },
    {
     "cell_type": "markdown",
     "metadata": {
      "slideshow": {
       "slide_type": "slide"
      }
     },
     "source": [
      "**How Can I access the HTML elements**\n",
      "-------------------------------------\n",
      "\n",
      "#### Getting access to an element can be done in different ways. The most usual is to use its identifier, ie its attribute id : with an input field defined by\n",
      "\n",
      "    <input id=\"data\">\n",
      "\n",
      "#### we can get a reference to this field by\n",
      "\n",
      "    data = doc[\"data\"]\n",
      "\n",
      "#### doc is a built-in Brython keyword that refers to the HTML document. It behaves like a dictionary whose keys are the identifiers of the elements in the page. If not element has the specified id, the program raises a KeyError exception\n",
      "\n",
      "#### We can also get all the elements of a given type, for instance all the hypertext links (HTML tag A), using the syntax\n",
      "\n",
      "    import html\n",
      "    links = doc[html.A]\n",
      "\n",
      "#### Finally, all the elements in the page have a method get() that can be used to search elements :\n",
      "\n",
      "    elt.get(name=N) returns a list of all the elements descending from elt whose attribute name is equal to N\n",
      "    elt.get(selector=S) returns a list with all the elements descending from elt whose CSS selector matches S"
     ]
    },
    {
     "cell_type": "markdown",
     "metadata": {
      "slideshow": {
       "slide_type": "slide"
      }
     },
     "source": [
      "# Ok, let's see Brython in Action with some examples I created for the PyConES'2013!!"
     ]
    },
    {
     "cell_type": "code",
     "collapsed": false,
     "input": [
      "HTML('<iframe src=https://googledrive.com/host/0B4OEtv-kAaTBSllJM19hdkpCeTQ/colors_bootstrapped.html width=900 height=350></iframe>')"
     ],
     "language": "python",
     "metadata": {
      "slideshow": {
       "slide_type": "slide"
      }
     },
     "outputs": [
      {
       "html": [
        "<iframe src=https://googledrive.com/host/0B4OEtv-kAaTBSllJM19hdkpCeTQ/colors_bootstrapped.html width=900 height=350></iframe>"
       ],
       "metadata": {},
       "output_type": "pyout",
       "prompt_number": 6,
       "text": [
        "<IPython.core.display.HTML at 0x7f11ca445610>"
       ]
      }
     ],
     "prompt_number": 6
    },
    {
     "cell_type": "markdown",
     "metadata": {
      "slideshow": {
       "slide_type": "fragment"
      }
     },
     "source": [
      "#### Link to [colors app](https://googledrive.com/host/0B4OEtv-kAaTBSllJM19hdkpCeTQ/colors_bootstrapped.html)."
     ]
    },
    {
     "cell_type": "markdown",
     "metadata": {
      "slideshow": {
       "slide_type": "slide"
      }
     },
     "source": [
      "#### (Warning: to make this work you should run a server first so it is not working in the presentation)"
     ]
    },
    {
     "cell_type": "code",
     "collapsed": false,
     "input": [
      "HTML('<iframe src=https://googledrive.com/host/0B4OEtv-kAaTBSllJM19hdkpCeTQ/table_bootstrapped.html width=900 height=350></iframe>')"
     ],
     "language": "python",
     "metadata": {
      "slideshow": {
       "slide_type": "fragment"
      }
     },
     "outputs": [
      {
       "html": [
        "<iframe src=https://googledrive.com/host/0B4OEtv-kAaTBSllJM19hdkpCeTQ/table_bootstrapped.html width=900 height=350></iframe>"
       ],
       "metadata": {},
       "output_type": "pyout",
       "prompt_number": 9,
       "text": [
        "<IPython.core.display.HTML at 0x7f11ca445550>"
       ]
      }
     ],
     "prompt_number": 9
    },
    {
     "cell_type": "markdown",
     "metadata": {},
     "source": [
      "#### Link to [table app](https://googledrive.com/host/0B4OEtv-kAaTBSllJM19hdkpCeTQ/table_bootstrapped.html)."
     ]
    },
    {
     "cell_type": "code",
     "collapsed": false,
     "input": [
      "HTML('<iframe src=https://googledrive.com/host/0B4OEtv-kAaTBSllJM19hdkpCeTQ/puzzle_bootstrapped.html width=900 height=350></iframe>')"
     ],
     "language": "python",
     "metadata": {
      "slideshow": {
       "slide_type": "slide"
      }
     },
     "outputs": [
      {
       "html": [
        "<iframe src=https://googledrive.com/host/0B4OEtv-kAaTBSllJM19hdkpCeTQ/puzzle_bootstrapped.html width=900 height=350></iframe>"
       ],
       "metadata": {},
       "output_type": "pyout",
       "prompt_number": 11,
       "text": [
        "<IPython.core.display.HTML at 0x7f11ca445350>"
       ]
      }
     ],
     "prompt_number": 11
    },
    {
     "cell_type": "markdown",
     "metadata": {
      "slideshow": {
       "slide_type": "fragment"
      }
     },
     "source": [
      "#### Link to [puzzle game app](https://googledrive.com/host/0B4OEtv-kAaTBSllJM19hdkpCeTQ/puzzle_bootstrapped.html)."
     ]
    },
    {
     "cell_type": "code",
     "collapsed": false,
     "input": [
      "HTML('<iframe src=https://googledrive.com/host/0B4OEtv-kAaTBSllJM19hdkpCeTQ/jsonp_bootstrapped.html width=900 height=350></iframe>')"
     ],
     "language": "python",
     "metadata": {
      "slideshow": {
       "slide_type": "slide"
      }
     },
     "outputs": [
      {
       "html": [
        "<iframe src=https://googledrive.com/host/0B4OEtv-kAaTBSllJM19hdkpCeTQ/jsonp_bootstrapped.html width=900 height=350></iframe>"
       ],
       "metadata": {},
       "output_type": "pyout",
       "prompt_number": 12,
       "text": [
        "<IPython.core.display.HTML at 0x7f11ca445b90>"
       ]
      }
     ],
     "prompt_number": 12
    },
    {
     "cell_type": "markdown",
     "metadata": {
      "slideshow": {
       "slide_type": "fragment"
      }
     },
     "source": [
      "#### Link to [jsonp request app](https://googledrive.com/host/0B4OEtv-kAaTBSllJM19hdkpCeTQ/jsonp_bootstrapped.html)."
     ]
    },
    {
     "cell_type": "code",
     "collapsed": false,
     "input": [
      "HTML('<iframe src=https://googledrive.com/host/0B4OEtv-kAaTBSllJM19hdkpCeTQ/hangman_bootstrapped.html width=900 height=500></iframe>')"
     ],
     "language": "python",
     "metadata": {
      "slideshow": {
       "slide_type": "slide"
      }
     },
     "outputs": [
      {
       "html": [
        "<iframe src=https://googledrive.com/host/0B4OEtv-kAaTBSllJM19hdkpCeTQ/hangman_bootstrapped.html width=900 height=500></iframe>"
       ],
       "metadata": {},
       "output_type": "pyout",
       "prompt_number": 13,
       "text": [
        "<IPython.core.display.HTML at 0x7f11ca445fd0>"
       ]
      }
     ],
     "prompt_number": 13
    },
    {
     "cell_type": "markdown",
     "metadata": {
      "slideshow": {
       "slide_type": "fragment"
      }
     },
     "source": [
      "#### Link to [hangman game app](https://googledrive.com/host/0B4OEtv-kAaTBSllJM19hdkpCeTQ/hangman_bootstrapped.html)."
     ]
    },
    {
     "cell_type": "code",
     "collapsed": false,
     "input": [
      "HTML('<iframe src=https://googledrive.com/host/0B4OEtv-kAaTBSllJM19hdkpCeTQ/todo_bootstrapped.html width=900 height=500></iframe>')"
     ],
     "language": "python",
     "metadata": {
      "slideshow": {
       "slide_type": "slide"
      }
     },
     "outputs": [
      {
       "html": [
        "<iframe src=https://googledrive.com/host/0B4OEtv-kAaTBSllJM19hdkpCeTQ/todo_bootstrapped.html width=900 height=500></iframe>"
       ],
       "metadata": {},
       "output_type": "pyout",
       "prompt_number": 14,
       "text": [
        "<IPython.core.display.HTML at 0x7f11ca4457d0>"
       ]
      }
     ],
     "prompt_number": 14
    },
    {
     "cell_type": "markdown",
     "metadata": {
      "slideshow": {
       "slide_type": "fragment"
      }
     },
     "source": [
      "#### Link to [TO-DO list app](https://googledrive.com/host/0B4OEtv-kAaTBSllJM19hdkpCeTQ/todo_bootstrapped.html)."
     ]
    },
    {
     "cell_type": "markdown",
     "metadata": {
      "slideshow": {
       "slide_type": "slide"
      }
     },
     "source": [
      "## [https://github.com/kikocorreoso/Brython-PyConES-2013](https://github.com/kikocorreoso/Brython-PyConES-2013)\n",
      "\n",
      "## @pybonacci \n",
      "\n",
      "## Official repository [https://bitbucket.org/olemis/brython/overview](https://bitbucket.org/olemis/brython/overview)\n",
      "\n",
      "## Official web page []()\n",
      "\n",
      "## Apps running in my [Gdrive](https://drive.google.com/folderview?id=0B4OEtv-kAaTBUlE2OU9QcHVpT3c&usp=sharing)."
     ]
    },
    {
     "cell_type": "markdown",
     "metadata": {
      "slideshow": {
       "slide_type": "slide"
      }
     },
     "source": [
      "# And that's all!\n",
      "\n",
      "#### Now you should love Brython :-)\n",
      "\n",
      "![](http://images.fanpop.com/images/image_uploads/sponge-bob-rocks-spongebob-squarepants-154588_427_600.jpg)"
     ]
    }
   ],
   "metadata": {}
  }
 ]
}